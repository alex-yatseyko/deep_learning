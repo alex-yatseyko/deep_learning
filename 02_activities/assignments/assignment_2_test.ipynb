{
 "cells": [
  {
   "cell_type": "code",
   "execution_count": 7,
   "metadata": {},
   "outputs": [
    {
     "name": "stdout",
     "output_type": "stream",
     "text": [
      "tokenizer.word_index: {'my': 1, 'dog': 2, 'love': 3, 'i': 4, 'you': 5, 'is': 6, 'cat': 7, 'do': 8, 'think': 9, 'amazing': 10, 'so': 11, 'much': 12, 'the': 13, 'best': 14}\n",
      "sequences: [[4, 3, 1, 2], [4, 3, 1, 7], [5, 3, 1, 2], [8, 5, 9, 1, 2, 6, 10], [4, 3, 1, 2, 11, 12], [1, 2, 6, 13, 14]]\n"
     ]
    }
   ],
   "source": [
    "import tensorflow as tf\n",
    "Tokenizer = tf.keras.preprocessing.text.Tokenizer \n",
    "\n",
    "sentences = [\n",
    "    'I love my dog',\n",
    "    'I love my cat',\n",
    "    'You love my dog!',\n",
    "    'Do you think my dog is amazing?',\n",
    "    'I love my dog so much',\n",
    "    'My dog is the best!',\n",
    "]\n",
    "\n",
    "tokenizer = Tokenizer(num_words=100)\n",
    "tokenizer.fit_on_texts(sentences)\n",
    "print('tokenizer.word_index:', tokenizer.word_index)\n",
    "\n",
    "sequences = tokenizer.texts_to_sequences(sentences)\n",
    "print('sequences:', sequences)"
   ]
  },
  {
   "cell_type": "code",
   "execution_count": 8,
   "metadata": {},
   "outputs": [
    {
     "name": "stdout",
     "output_type": "stream",
     "text": [
      "test_seq: [[4, 3, 1, 2], [1, 2, 1]]\n"
     ]
    }
   ],
   "source": [
    "test_data = [\n",
    "    'i really love my dog',\n",
    "    'my dog loves my manatee',\n",
    "]\n",
    "\n",
    "test_seq = tokenizer.texts_to_sequences(test_data)\n",
    "print('test_seq:', test_seq)\n",
    "\n",
    "# There are new words which are not tokenized so they are ignored"
   ]
  },
  {
   "cell_type": "code",
   "execution_count": 9,
   "metadata": {},
   "outputs": [
    {
     "name": "stdout",
     "output_type": "stream",
     "text": [
      "sequences: [[5, 4, 2, 3], [5, 4, 2, 8], [6, 4, 2, 3], [9, 6, 10, 2, 3, 7, 11], [5, 4, 2, 3, 12, 13], [2, 3, 7, 14, 15]]\n"
     ]
    }
   ],
   "source": [
    "tokenizer = Tokenizer(num_words=100, oov_token='<OOV>')\n",
    "tokenizer.fit_on_texts(sentences)\n",
    "\n",
    "sequences = tokenizer.texts_to_sequences(sentences)\n",
    "print('sequences:', sequences)"
   ]
  },
  {
   "cell_type": "code",
   "execution_count": 10,
   "metadata": {},
   "outputs": [
    {
     "name": "stdout",
     "output_type": "stream",
     "text": [
      "test_seq: [[5, 1, 4, 2, 3], [2, 3, 1, 2, 1]]\n"
     ]
    }
   ],
   "source": [
    "test_data = [\n",
    "    'i really love my dog',\n",
    "    'my dog loves my manatee',\n",
    "]\n",
    "\n",
    "test_seq = tokenizer.texts_to_sequences(test_data)\n",
    "print('test_seq:', test_seq)\n",
    "\n",
    "# Now in my test_seq new words are replaced with <OOV> token"
   ]
  }
 ],
 "metadata": {
  "kernelspec": {
   "display_name": "dsi_participant",
   "language": "python",
   "name": "python3"
  },
  "language_info": {
   "codemirror_mode": {
    "name": "ipython",
    "version": 3
   },
   "file_extension": ".py",
   "mimetype": "text/x-python",
   "name": "python",
   "nbconvert_exporter": "python",
   "pygments_lexer": "ipython3",
   "version": "3.9.18"
  }
 },
 "nbformat": 4,
 "nbformat_minor": 2
}
